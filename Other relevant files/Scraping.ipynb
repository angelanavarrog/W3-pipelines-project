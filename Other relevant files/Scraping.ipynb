{
 "cells": [
  {
   "cell_type": "markdown",
   "metadata": {},
   "source": [
    "# Scraping"
   ]
  },
  {
   "cell_type": "markdown",
   "metadata": {},
   "source": [
    "We are using the info from this ![web site](https://www.health.ny.gov/statistics/cancer/registry/appendix/neighborhoodpop.htm]) to complete our data."
   ]
  },
  {
   "cell_type": "code",
   "execution_count": 1,
   "metadata": {},
   "outputs": [],
   "source": [
    "import pandas as pd\n",
    "import numpy as np\n",
    "import requests\n",
    "import re\n",
    "from bs4 import BeautifulSoup\n",
    "from tabulate import tabulate"
   ]
  },
  {
   "cell_type": "markdown",
   "metadata": {},
   "source": [
    "### To start, we save the URL of the website we will be scraping from"
   ]
  },
  {
   "cell_type": "code",
   "execution_count": 2,
   "metadata": {},
   "outputs": [],
   "source": [
    "url_population = \"https://www.health.ny.gov/statistics/cancer/registry/appendix/neighborhoodpop.htm\""
   ]
  },
  {
   "cell_type": "code",
   "execution_count": 3,
   "metadata": {},
   "outputs": [],
   "source": [
    "response = requests.get(url_population)\n",
    "soup = BeautifulSoup(response.text, 'html.parser')"
   ]
  },
  {
   "cell_type": "code",
   "execution_count": 4,
   "metadata": {},
   "outputs": [],
   "source": [
    "population = soup('table', {\"class\": 'light_table right'})"
   ]
  },
  {
   "cell_type": "markdown",
   "metadata": {},
   "source": [
    "### Now, we look for the tags inside, checking the first element"
   ]
  },
  {
   "cell_type": "code",
   "execution_count": 5,
   "metadata": {},
   "outputs": [],
   "source": [
    "data = population[0].find_all('tr')"
   ]
  },
  {
   "cell_type": "code",
   "execution_count": 6,
   "metadata": {},
   "outputs": [
    {
     "data": {
      "text/plain": [
       "<tr>\n",
       "<th id=\"b\" rowspan=\"1\">Borough</th>\n",
       "<th id=\"c\" rowspan=\"1\">region</th>\n",
       "<th id=\"m\">Males</th>\n",
       "<th id=\"f\">Females</th>\n",
       "<th id=\"p\">Total Population</th>\n",
       "</tr>"
      ]
     },
     "execution_count": 6,
     "metadata": {},
     "output_type": "execute_result"
    }
   ],
   "source": [
    "data[0]"
   ]
  },
  {
   "cell_type": "code",
   "execution_count": 7,
   "metadata": {},
   "outputs": [
    {
     "data": {
      "text/plain": [
       "[<th id=\"b\" rowspan=\"1\">Borough</th>,\n",
       " <th id=\"c\" rowspan=\"1\">region</th>,\n",
       " <th id=\"m\">Males</th>,\n",
       " <th id=\"f\">Females</th>,\n",
       " <th id=\"p\">Total Population</th>]"
      ]
     },
     "execution_count": 7,
     "metadata": {},
     "output_type": "execute_result"
    }
   ],
   "source": [
    "data[0].find_all('th')"
   ]
  },
  {
   "cell_type": "markdown",
   "metadata": {},
   "source": [
    "### We look for the data inside our dataframe "
   ]
  },
  {
   "cell_type": "code",
   "execution_count": 8,
   "metadata": {},
   "outputs": [],
   "source": [
    "population2 = []\n",
    "for row in data:\n",
    "    population2.append([cell.text for cell in row.find_all()])"
   ]
  },
  {
   "cell_type": "code",
   "execution_count": 9,
   "metadata": {},
   "outputs": [],
   "source": [
    "population_final = pd.DataFrame(population2)\n",
    "population_final.columns = population_final.iloc[0]\n",
    "population_final = population_final.iloc[1:]"
   ]
  },
  {
   "cell_type": "code",
   "execution_count": 10,
   "metadata": {},
   "outputs": [
    {
     "data": {
      "text/html": [
       "<div>\n",
       "<style scoped>\n",
       "    .dataframe tbody tr th:only-of-type {\n",
       "        vertical-align: middle;\n",
       "    }\n",
       "\n",
       "    .dataframe tbody tr th {\n",
       "        vertical-align: top;\n",
       "    }\n",
       "\n",
       "    .dataframe thead th {\n",
       "        text-align: right;\n",
       "    }\n",
       "</style>\n",
       "<table border=\"1\" class=\"dataframe\">\n",
       "  <thead>\n",
       "    <tr style=\"text-align: right;\">\n",
       "      <th></th>\n",
       "      <th>Borough</th>\n",
       "      <th>region</th>\n",
       "      <th>Males</th>\n",
       "      <th>Females</th>\n",
       "      <th>Total Population</th>\n",
       "    </tr>\n",
       "  </thead>\n",
       "  <tbody>\n",
       "    <tr>\n",
       "      <th>1</th>\n",
       "      <td>Bronx</td>\n",
       "      <td>Riverdale, Fieldston &amp; Kingsbridge</td>\n",
       "      <td>51,598</td>\n",
       "      <td>61,481</td>\n",
       "      <td>113,079</td>\n",
       "    </tr>\n",
       "    <tr>\n",
       "      <th>2</th>\n",
       "      <td></td>\n",
       "      <td>Wakefield, Williamsbridge &amp; Woodlawn</td>\n",
       "      <td>65,216</td>\n",
       "      <td>78,387</td>\n",
       "      <td>143,604</td>\n",
       "    </tr>\n",
       "    <tr>\n",
       "      <th>3</th>\n",
       "      <td></td>\n",
       "      <td>Co-op City, Pelham Bay &amp; Schuylerville</td>\n",
       "      <td>55,037</td>\n",
       "      <td>65,204</td>\n",
       "      <td>120,241</td>\n",
       "    </tr>\n",
       "    <tr>\n",
       "      <th>4</th>\n",
       "      <td></td>\n",
       "      <td>Pelham Parkway, Morris Park &amp; Laconia</td>\n",
       "      <td>60,974</td>\n",
       "      <td>67,982</td>\n",
       "      <td>128,956</td>\n",
       "    </tr>\n",
       "    <tr>\n",
       "      <th>5</th>\n",
       "      <td></td>\n",
       "      <td>Belmont, Crotona Park East &amp; East Tremont</td>\n",
       "      <td>77,119</td>\n",
       "      <td>89,293</td>\n",
       "      <td>166,411</td>\n",
       "    </tr>\n",
       "  </tbody>\n",
       "</table>\n",
       "</div>"
      ],
      "text/plain": [
       "0 Borough                                     region   Males Females  \\\n",
       "1   Bronx         Riverdale, Fieldston & Kingsbridge  51,598  61,481   \n",
       "2               Wakefield, Williamsbridge & Woodlawn  65,216  78,387   \n",
       "3             Co-op City, Pelham Bay & Schuylerville  55,037  65,204   \n",
       "4              Pelham Parkway, Morris Park & Laconia  60,974  67,982   \n",
       "5          Belmont, Crotona Park East & East Tremont  77,119  89,293   \n",
       "\n",
       "0 Total Population  \n",
       "1          113,079  \n",
       "2          143,604  \n",
       "3          120,241  \n",
       "4          128,956  \n",
       "5          166,411  "
      ]
     },
     "execution_count": 10,
     "metadata": {},
     "output_type": "execute_result"
    }
   ],
   "source": [
    "population_final [:5]"
   ]
  },
  {
   "cell_type": "markdown",
   "metadata": {},
   "source": [
    "A table with empty cells is obtained."
   ]
  },
  {
   "cell_type": "markdown",
   "metadata": {},
   "source": [
    "### We work to include in the empty cells the values we are looking for."
   ]
  },
  {
   "cell_type": "markdown",
   "metadata": {},
   "source": [
    "#### Firstly, we replace empty cells by \"nan\""
   ]
  },
  {
   "cell_type": "code",
   "execution_count": 11,
   "metadata": {},
   "outputs": [],
   "source": [
    "population_final = population_final.replace(r'^\\s*$', np.nan, regex=True)"
   ]
  },
  {
   "cell_type": "code",
   "execution_count": 12,
   "metadata": {},
   "outputs": [
    {
     "data": {
      "text/html": [
       "<div>\n",
       "<style scoped>\n",
       "    .dataframe tbody tr th:only-of-type {\n",
       "        vertical-align: middle;\n",
       "    }\n",
       "\n",
       "    .dataframe tbody tr th {\n",
       "        vertical-align: top;\n",
       "    }\n",
       "\n",
       "    .dataframe thead th {\n",
       "        text-align: right;\n",
       "    }\n",
       "</style>\n",
       "<table border=\"1\" class=\"dataframe\">\n",
       "  <thead>\n",
       "    <tr style=\"text-align: right;\">\n",
       "      <th></th>\n",
       "      <th>Borough</th>\n",
       "      <th>region</th>\n",
       "      <th>Males</th>\n",
       "      <th>Females</th>\n",
       "      <th>Total Population</th>\n",
       "    </tr>\n",
       "  </thead>\n",
       "  <tbody>\n",
       "    <tr>\n",
       "      <th>1</th>\n",
       "      <td>Bronx</td>\n",
       "      <td>Riverdale, Fieldston &amp; Kingsbridge</td>\n",
       "      <td>51,598</td>\n",
       "      <td>61,481</td>\n",
       "      <td>113,079</td>\n",
       "    </tr>\n",
       "    <tr>\n",
       "      <th>2</th>\n",
       "      <td>NaN</td>\n",
       "      <td>Wakefield, Williamsbridge &amp; Woodlawn</td>\n",
       "      <td>65,216</td>\n",
       "      <td>78,387</td>\n",
       "      <td>143,604</td>\n",
       "    </tr>\n",
       "    <tr>\n",
       "      <th>3</th>\n",
       "      <td>NaN</td>\n",
       "      <td>Co-op City, Pelham Bay &amp; Schuylerville</td>\n",
       "      <td>55,037</td>\n",
       "      <td>65,204</td>\n",
       "      <td>120,241</td>\n",
       "    </tr>\n",
       "    <tr>\n",
       "      <th>4</th>\n",
       "      <td>NaN</td>\n",
       "      <td>Pelham Parkway, Morris Park &amp; Laconia</td>\n",
       "      <td>60,974</td>\n",
       "      <td>67,982</td>\n",
       "      <td>128,956</td>\n",
       "    </tr>\n",
       "    <tr>\n",
       "      <th>5</th>\n",
       "      <td>NaN</td>\n",
       "      <td>Belmont, Crotona Park East &amp; East Tremont</td>\n",
       "      <td>77,119</td>\n",
       "      <td>89,293</td>\n",
       "      <td>166,411</td>\n",
       "    </tr>\n",
       "    <tr>\n",
       "      <th>6</th>\n",
       "      <td>NaN</td>\n",
       "      <td>Bedford Park, Fordham North &amp; Norwood</td>\n",
       "      <td>63,169</td>\n",
       "      <td>68,921</td>\n",
       "      <td>132,090</td>\n",
       "    </tr>\n",
       "    <tr>\n",
       "      <th>7</th>\n",
       "      <td>NaN</td>\n",
       "      <td>Morris Heights, Fordham South &amp; Mount Hope</td>\n",
       "      <td>65,682</td>\n",
       "      <td>72,967</td>\n",
       "      <td>138,648</td>\n",
       "    </tr>\n",
       "    <tr>\n",
       "      <th>8</th>\n",
       "      <td>NaN</td>\n",
       "      <td>Concourse, Highbridge &amp; Mount Eden</td>\n",
       "      <td>68,152</td>\n",
       "      <td>75,978</td>\n",
       "      <td>144,129</td>\n",
       "    </tr>\n",
       "    <tr>\n",
       "      <th>9</th>\n",
       "      <td>NaN</td>\n",
       "      <td>Castle Hill, Clason Point &amp; Parkchester</td>\n",
       "      <td>88,007</td>\n",
       "      <td>100,193</td>\n",
       "      <td>188,201</td>\n",
       "    </tr>\n",
       "    <tr>\n",
       "      <th>10</th>\n",
       "      <td>NaN</td>\n",
       "      <td>Hunts Point, Longwood &amp; Melrose</td>\n",
       "      <td>81,666</td>\n",
       "      <td>79,759</td>\n",
       "      <td>161,425</td>\n",
       "    </tr>\n",
       "    <tr>\n",
       "      <th>11</th>\n",
       "      <td>Kings (Brooklyn)</td>\n",
       "      <td>Greenpoint &amp; Williamsburg</td>\n",
       "      <td>76,748</td>\n",
       "      <td>77,779</td>\n",
       "      <td>154,527</td>\n",
       "    </tr>\n",
       "    <tr>\n",
       "      <th>12</th>\n",
       "      <td>NaN</td>\n",
       "      <td>Bushwick</td>\n",
       "      <td>66,695</td>\n",
       "      <td>67,378</td>\n",
       "      <td>134,073</td>\n",
       "    </tr>\n",
       "  </tbody>\n",
       "</table>\n",
       "</div>"
      ],
      "text/plain": [
       "0            Borough                                      region   Males  \\\n",
       "1              Bronx          Riverdale, Fieldston & Kingsbridge  51,598   \n",
       "2                NaN        Wakefield, Williamsbridge & Woodlawn  65,216   \n",
       "3                NaN      Co-op City, Pelham Bay & Schuylerville  55,037   \n",
       "4                NaN       Pelham Parkway, Morris Park & Laconia  60,974   \n",
       "5                NaN   Belmont, Crotona Park East & East Tremont  77,119   \n",
       "6                NaN       Bedford Park, Fordham North & Norwood  63,169   \n",
       "7                NaN  Morris Heights, Fordham South & Mount Hope  65,682   \n",
       "8                NaN          Concourse, Highbridge & Mount Eden  68,152   \n",
       "9                NaN     Castle Hill, Clason Point & Parkchester  88,007   \n",
       "10               NaN             Hunts Point, Longwood & Melrose  81,666   \n",
       "11  Kings (Brooklyn)                   Greenpoint & Williamsburg  76,748   \n",
       "12               NaN                                    Bushwick  66,695   \n",
       "\n",
       "0   Females Total Population  \n",
       "1    61,481          113,079  \n",
       "2    78,387          143,604  \n",
       "3    65,204          120,241  \n",
       "4    67,982          128,956  \n",
       "5    89,293          166,411  \n",
       "6    68,921          132,090  \n",
       "7    72,967          138,648  \n",
       "8    75,978          144,129  \n",
       "9   100,193          188,201  \n",
       "10   79,759          161,425  \n",
       "11   77,779          154,527  \n",
       "12   67,378          134,073  "
      ]
     },
     "execution_count": 12,
     "metadata": {},
     "output_type": "execute_result"
    }
   ],
   "source": [
    "population_final[:12]"
   ]
  },
  {
   "cell_type": "markdown",
   "metadata": {},
   "source": [
    "#### In second place, we define a function to substitute the name of some values for the correct ones."
   ]
  },
  {
   "cell_type": "code",
   "execution_count": 13,
   "metadata": {},
   "outputs": [],
   "source": [
    "def neighbourhood (Borough):\n",
    "    if Borough == \"Kings (Brooklyn)\":\n",
    "        return \"Brooklyn\" \n",
    "    elif Borough == \"New York (Manhattan)\":\n",
    "        return \"Manhattan\" \n",
    "    elif Borough == \"Bronx\":\n",
    "        return \"Bronx\"\n",
    "    elif Borough == \"Queens\":\n",
    "        return \"Queens\" \n",
    "    elif Borough == \"Richmond (Staten Island)\":\n",
    "        return \"Staten Island\""
   ]
  },
  {
   "cell_type": "code",
   "execution_count": 14,
   "metadata": {},
   "outputs": [],
   "source": [
    "population_final [\"Borough\"] = population_final[\"Borough\"].apply(neighbourhood)"
   ]
  },
  {
   "cell_type": "markdown",
   "metadata": {},
   "source": [
    "#### Finaly, we define new dataframes for each value we want to include in the table."
   ]
  },
  {
   "cell_type": "code",
   "execution_count": 15,
   "metadata": {},
   "outputs": [],
   "source": [
    "bronx = population_final.loc[0:10].replace(np.nan,\"Bronx\")"
   ]
  },
  {
   "cell_type": "code",
   "execution_count": 16,
   "metadata": {},
   "outputs": [],
   "source": [
    "brooklyn = population_final.loc[11:29].replace(np.nan,\"Brooklyn\")"
   ]
  },
  {
   "cell_type": "code",
   "execution_count": 17,
   "metadata": {},
   "outputs": [],
   "source": [
    "manhattan = population_final.loc[30:39].replace(np.nan,\"Manhattan\")"
   ]
  },
  {
   "cell_type": "code",
   "execution_count": 18,
   "metadata": {},
   "outputs": [],
   "source": [
    "queens = population_final.loc[40:53].replace(np.nan,\"Queens\")"
   ]
  },
  {
   "cell_type": "code",
   "execution_count": 19,
   "metadata": {},
   "outputs": [],
   "source": [
    "staten_island = population_final.loc[54:56].replace(np.nan,\"Staten Island\")"
   ]
  },
  {
   "cell_type": "code",
   "execution_count": 20,
   "metadata": {},
   "outputs": [],
   "source": [
    "NYC_population = pd.concat([bronx, brooklyn, manhattan, queens, staten_island])"
   ]
  },
  {
   "cell_type": "markdown",
   "metadata": {},
   "source": [
    "### Conversion of values in columns Females, Males and Total Population from string to float."
   ]
  },
  {
   "cell_type": "markdown",
   "metadata": {},
   "source": [
    "#### Conversion of column Males"
   ]
  },
  {
   "cell_type": "code",
   "execution_count": 21,
   "metadata": {},
   "outputs": [],
   "source": [
    "males_values = NYC_population['Males'].values\n",
    "for i in range(len(males_values)):\n",
    "    myVal = males_values[i].replace(\",\", \"\")\n",
    "    males_values[i] = float(myVal)"
   ]
  },
  {
   "cell_type": "code",
   "execution_count": 22,
   "metadata": {},
   "outputs": [],
   "source": [
    "NYC_population = NYC_population.replace(myVal)"
   ]
  },
  {
   "cell_type": "markdown",
   "metadata": {},
   "source": [
    "#### Conversion of column Females"
   ]
  },
  {
   "cell_type": "code",
   "execution_count": 23,
   "metadata": {},
   "outputs": [],
   "source": [
    "females_values = NYC_population['Females'].values\n",
    "for i in range(len(females_values)):\n",
    "    myValf = females_values[i].replace(\",\", \"\")\n",
    "    females_values[i] = float(myValf)"
   ]
  },
  {
   "cell_type": "code",
   "execution_count": 24,
   "metadata": {},
   "outputs": [],
   "source": [
    "NYC_population = NYC_population.replace(myValf)"
   ]
  },
  {
   "cell_type": "markdown",
   "metadata": {},
   "source": [
    "#### Conversion of column Total Population"
   ]
  },
  {
   "cell_type": "code",
   "execution_count": 26,
   "metadata": {},
   "outputs": [],
   "source": [
    "population_values = NYC_population['Total Population'].values\n",
    "for p in range(len(population_values)):\n",
    "    myValp = population_values[p].replace(\",\", \"\")\n",
    "    population_values[p] = float(myValp)"
   ]
  },
  {
   "cell_type": "code",
   "execution_count": 27,
   "metadata": {},
   "outputs": [],
   "source": [
    "NYC_population = NYC_population.replace(myValp)"
   ]
  },
  {
   "cell_type": "markdown",
   "metadata": {},
   "source": [
    "### Rename column"
   ]
  },
  {
   "cell_type": "code",
   "execution_count": 28,
   "metadata": {},
   "outputs": [],
   "source": [
    "NYC_population = NYC_population.rename(columns={'Total Population': 'population'})"
   ]
  },
  {
   "cell_type": "code",
   "execution_count": 25,
   "metadata": {},
   "outputs": [
    {
     "data": {
      "text/plain": [
       "pandas.core.frame.DataFrame"
      ]
     },
     "execution_count": 25,
     "metadata": {},
     "output_type": "execute_result"
    }
   ],
   "source": [
    "type (NYC_population)"
   ]
  },
  {
   "cell_type": "markdown",
   "metadata": {},
   "source": [
    "### Once our dataset is clean, we reset the index"
   ]
  },
  {
   "cell_type": "code",
   "execution_count": 29,
   "metadata": {},
   "outputs": [
    {
     "data": {
      "text/html": [
       "<div>\n",
       "<style scoped>\n",
       "    .dataframe tbody tr th:only-of-type {\n",
       "        vertical-align: middle;\n",
       "    }\n",
       "\n",
       "    .dataframe tbody tr th {\n",
       "        vertical-align: top;\n",
       "    }\n",
       "\n",
       "    .dataframe thead th {\n",
       "        text-align: right;\n",
       "    }\n",
       "</style>\n",
       "<table border=\"1\" class=\"dataframe\">\n",
       "  <thead>\n",
       "    <tr style=\"text-align: right;\">\n",
       "      <th></th>\n",
       "      <th>Borough</th>\n",
       "      <th>region</th>\n",
       "      <th>Males</th>\n",
       "      <th>Females</th>\n",
       "      <th>population</th>\n",
       "    </tr>\n",
       "  </thead>\n",
       "  <tbody>\n",
       "    <tr>\n",
       "      <th>1</th>\n",
       "      <td>Bronx</td>\n",
       "      <td>Riverdale, Fieldston &amp; Kingsbridge</td>\n",
       "      <td>51598.0</td>\n",
       "      <td>61481.0</td>\n",
       "      <td>113079.0</td>\n",
       "    </tr>\n",
       "    <tr>\n",
       "      <th>2</th>\n",
       "      <td>Bronx</td>\n",
       "      <td>Wakefield, Williamsbridge &amp; Woodlawn</td>\n",
       "      <td>65216.0</td>\n",
       "      <td>78387.0</td>\n",
       "      <td>143604.0</td>\n",
       "    </tr>\n",
       "    <tr>\n",
       "      <th>3</th>\n",
       "      <td>Bronx</td>\n",
       "      <td>Co-op City, Pelham Bay &amp; Schuylerville</td>\n",
       "      <td>55037.0</td>\n",
       "      <td>65204.0</td>\n",
       "      <td>120241.0</td>\n",
       "    </tr>\n",
       "    <tr>\n",
       "      <th>4</th>\n",
       "      <td>Bronx</td>\n",
       "      <td>Pelham Parkway, Morris Park &amp; Laconia</td>\n",
       "      <td>60974.0</td>\n",
       "      <td>67982.0</td>\n",
       "      <td>128956.0</td>\n",
       "    </tr>\n",
       "    <tr>\n",
       "      <th>5</th>\n",
       "      <td>Bronx</td>\n",
       "      <td>Belmont, Crotona Park East &amp; East Tremont</td>\n",
       "      <td>77119.0</td>\n",
       "      <td>89293.0</td>\n",
       "      <td>166411.0</td>\n",
       "    </tr>\n",
       "  </tbody>\n",
       "</table>\n",
       "</div>"
      ],
      "text/plain": [
       "0 Borough                                     region    Males  Females  \\\n",
       "1   Bronx         Riverdale, Fieldston & Kingsbridge  51598.0  61481.0   \n",
       "2   Bronx       Wakefield, Williamsbridge & Woodlawn  65216.0  78387.0   \n",
       "3   Bronx     Co-op City, Pelham Bay & Schuylerville  55037.0  65204.0   \n",
       "4   Bronx      Pelham Parkway, Morris Park & Laconia  60974.0  67982.0   \n",
       "5   Bronx  Belmont, Crotona Park East & East Tremont  77119.0  89293.0   \n",
       "\n",
       "0 population  \n",
       "1   113079.0  \n",
       "2   143604.0  \n",
       "3   120241.0  \n",
       "4   128956.0  \n",
       "5   166411.0  "
      ]
     },
     "execution_count": 29,
     "metadata": {},
     "output_type": "execute_result"
    }
   ],
   "source": [
    "NYC_population.head()"
   ]
  },
  {
   "cell_type": "code",
   "execution_count": 30,
   "metadata": {},
   "outputs": [
    {
     "data": {
      "text/plain": [
       "(55, 5)"
      ]
     },
     "execution_count": 30,
     "metadata": {},
     "output_type": "execute_result"
    }
   ],
   "source": [
    "NYC_population.shape"
   ]
  },
  {
   "cell_type": "markdown",
   "metadata": {},
   "source": [
    "### Finally, we export our cleaned data to use in other files."
   ]
  },
  {
   "cell_type": "code",
   "execution_count": 31,
   "metadata": {},
   "outputs": [
    {
     "ename": "FileNotFoundError",
     "evalue": "[Errno 2] No such file or directory: './output/NYC_population.csv'",
     "output_type": "error",
     "traceback": [
      "\u001b[0;31m---------------------------------------------------------------------------\u001b[0m",
      "\u001b[0;31mFileNotFoundError\u001b[0m                         Traceback (most recent call last)",
      "\u001b[0;32m<ipython-input-31-e9f31d03924e>\u001b[0m in \u001b[0;36m<module>\u001b[0;34m\u001b[0m\n\u001b[0;32m----> 1\u001b[0;31m \u001b[0mNYC_population\u001b[0m\u001b[0;34m.\u001b[0m\u001b[0mto_csv\u001b[0m\u001b[0;34m(\u001b[0m\u001b[0;34m\"./output/NYC_population.csv\"\u001b[0m\u001b[0;34m,\u001b[0m \u001b[0mindex\u001b[0m \u001b[0;34m=\u001b[0m \u001b[0;32mFalse\u001b[0m\u001b[0;34m)\u001b[0m\u001b[0;34m\u001b[0m\u001b[0;34m\u001b[0m\u001b[0m\n\u001b[0m",
      "\u001b[0;32m/usr/local/lib/python3.9/site-packages/pandas/core/generic.py\u001b[0m in \u001b[0;36mto_csv\u001b[0;34m(self, path_or_buf, sep, na_rep, float_format, columns, header, index, index_label, mode, encoding, compression, quoting, quotechar, line_terminator, chunksize, date_format, doublequote, escapechar, decimal, errors, storage_options)\u001b[0m\n\u001b[1;32m   3382\u001b[0m         )\n\u001b[1;32m   3383\u001b[0m \u001b[0;34m\u001b[0m\u001b[0m\n\u001b[0;32m-> 3384\u001b[0;31m         return DataFrameRenderer(formatter).to_csv(\n\u001b[0m\u001b[1;32m   3385\u001b[0m             \u001b[0mpath_or_buf\u001b[0m\u001b[0;34m,\u001b[0m\u001b[0;34m\u001b[0m\u001b[0;34m\u001b[0m\u001b[0m\n\u001b[1;32m   3386\u001b[0m             \u001b[0mline_terminator\u001b[0m\u001b[0;34m=\u001b[0m\u001b[0mline_terminator\u001b[0m\u001b[0;34m,\u001b[0m\u001b[0;34m\u001b[0m\u001b[0;34m\u001b[0m\u001b[0m\n",
      "\u001b[0;32m/usr/local/lib/python3.9/site-packages/pandas/io/formats/format.py\u001b[0m in \u001b[0;36mto_csv\u001b[0;34m(self, path_or_buf, encoding, sep, columns, index_label, mode, compression, quoting, quotechar, line_terminator, chunksize, date_format, doublequote, escapechar, errors, storage_options)\u001b[0m\n\u001b[1;32m   1081\u001b[0m             \u001b[0mformatter\u001b[0m\u001b[0;34m=\u001b[0m\u001b[0mself\u001b[0m\u001b[0;34m.\u001b[0m\u001b[0mfmt\u001b[0m\u001b[0;34m,\u001b[0m\u001b[0;34m\u001b[0m\u001b[0;34m\u001b[0m\u001b[0m\n\u001b[1;32m   1082\u001b[0m         )\n\u001b[0;32m-> 1083\u001b[0;31m         \u001b[0mcsv_formatter\u001b[0m\u001b[0;34m.\u001b[0m\u001b[0msave\u001b[0m\u001b[0;34m(\u001b[0m\u001b[0;34m)\u001b[0m\u001b[0;34m\u001b[0m\u001b[0;34m\u001b[0m\u001b[0m\n\u001b[0m\u001b[1;32m   1084\u001b[0m \u001b[0;34m\u001b[0m\u001b[0m\n\u001b[1;32m   1085\u001b[0m         \u001b[0;32mif\u001b[0m \u001b[0mcreated_buffer\u001b[0m\u001b[0;34m:\u001b[0m\u001b[0;34m\u001b[0m\u001b[0;34m\u001b[0m\u001b[0m\n",
      "\u001b[0;32m/usr/local/lib/python3.9/site-packages/pandas/io/formats/csvs.py\u001b[0m in \u001b[0;36msave\u001b[0;34m(self)\u001b[0m\n\u001b[1;32m    226\u001b[0m         \"\"\"\n\u001b[1;32m    227\u001b[0m         \u001b[0;31m# apply compression and byte/text conversion\u001b[0m\u001b[0;34m\u001b[0m\u001b[0;34m\u001b[0m\u001b[0;34m\u001b[0m\u001b[0m\n\u001b[0;32m--> 228\u001b[0;31m         with get_handle(\n\u001b[0m\u001b[1;32m    229\u001b[0m             \u001b[0mself\u001b[0m\u001b[0;34m.\u001b[0m\u001b[0mfilepath_or_buffer\u001b[0m\u001b[0;34m,\u001b[0m\u001b[0;34m\u001b[0m\u001b[0;34m\u001b[0m\u001b[0m\n\u001b[1;32m    230\u001b[0m             \u001b[0mself\u001b[0m\u001b[0;34m.\u001b[0m\u001b[0mmode\u001b[0m\u001b[0;34m,\u001b[0m\u001b[0;34m\u001b[0m\u001b[0;34m\u001b[0m\u001b[0m\n",
      "\u001b[0;32m/usr/local/lib/python3.9/site-packages/pandas/io/common.py\u001b[0m in \u001b[0;36mget_handle\u001b[0;34m(path_or_buf, mode, encoding, compression, memory_map, is_text, errors, storage_options)\u001b[0m\n\u001b[1;32m    637\u001b[0m         \u001b[0;32mif\u001b[0m \u001b[0mioargs\u001b[0m\u001b[0;34m.\u001b[0m\u001b[0mencoding\u001b[0m \u001b[0;32mand\u001b[0m \u001b[0;34m\"b\"\u001b[0m \u001b[0;32mnot\u001b[0m \u001b[0;32min\u001b[0m \u001b[0mioargs\u001b[0m\u001b[0;34m.\u001b[0m\u001b[0mmode\u001b[0m\u001b[0;34m:\u001b[0m\u001b[0;34m\u001b[0m\u001b[0;34m\u001b[0m\u001b[0m\n\u001b[1;32m    638\u001b[0m             \u001b[0;31m# Encoding\u001b[0m\u001b[0;34m\u001b[0m\u001b[0;34m\u001b[0m\u001b[0;34m\u001b[0m\u001b[0m\n\u001b[0;32m--> 639\u001b[0;31m             handle = open(\n\u001b[0m\u001b[1;32m    640\u001b[0m                 \u001b[0mhandle\u001b[0m\u001b[0;34m,\u001b[0m\u001b[0;34m\u001b[0m\u001b[0;34m\u001b[0m\u001b[0m\n\u001b[1;32m    641\u001b[0m                 \u001b[0mioargs\u001b[0m\u001b[0;34m.\u001b[0m\u001b[0mmode\u001b[0m\u001b[0;34m,\u001b[0m\u001b[0;34m\u001b[0m\u001b[0;34m\u001b[0m\u001b[0m\n",
      "\u001b[0;31mFileNotFoundError\u001b[0m: [Errno 2] No such file or directory: './output/NYC_population.csv'"
     ]
    }
   ],
   "source": [
    "NYC_population.to_csv(\"./output/NYC_population.csv\", index = False)"
   ]
  }
 ],
 "metadata": {
  "kernelspec": {
   "display_name": "Python 3",
   "language": "python",
   "name": "python3"
  },
  "language_info": {
   "codemirror_mode": {
    "name": "ipython",
    "version": 3
   },
   "file_extension": ".py",
   "mimetype": "text/x-python",
   "name": "python",
   "nbconvert_exporter": "python",
   "pygments_lexer": "ipython3",
   "version": "3.9.1"
  }
 },
 "nbformat": 4,
 "nbformat_minor": 4
}
